{
 "cells": [
  {
   "cell_type": "code",
   "execution_count": 1,
   "metadata": {},
   "outputs": [],
   "source": [
    "import pandas as pd\n",
    "import seaborn as sns\n",
    "import matplotlib.pyplot as plt\n",
    "import numpy as np\n",
    "from pathlib import Path\n",
    "import re\n",
    "from nltk.tokenize import word_tokenize, sent_tokenize\n",
    "import contractions\n"
   ]
  },
  {
   "cell_type": "code",
   "execution_count": 2,
   "metadata": {},
   "outputs": [
    {
     "name": "stderr",
     "output_type": "stream",
     "text": [
      "[nltk_data] Downloading package stopwords to /home/tim/nltk_data...\n",
      "[nltk_data]   Package stopwords is already up-to-date!\n",
      "[nltk_data] Downloading package wordnet to /home/tim/nltk_data...\n",
      "[nltk_data]   Package wordnet is already up-to-date!\n"
     ]
    },
    {
     "data": {
      "text/plain": [
       "True"
      ]
     },
     "execution_count": 2,
     "metadata": {},
     "output_type": "execute_result"
    }
   ],
   "source": [
    "import nltk\n",
    "nltk.download('stopwords')\n",
    "nltk.download('wordnet')"
   ]
  },
  {
   "cell_type": "code",
   "execution_count": 3,
   "metadata": {},
   "outputs": [],
   "source": [
    "filename = Path.cwd().parent.joinpath('data', 'interim', 'cleaned_2019.csv')\n",
    "datatypes = {'charCount': 'int32',\n",
    "             'wordcount': 'int32',\n",
    "             'productionOffice': 'category',\n",
    "             'pillarName': 'category',\n",
    "             'type': 'category',\n",
    "             'publication': 'category',\n",
    "             'sectionName': 'category'}"
   ]
  },
  {
   "cell_type": "code",
   "execution_count": 4,
   "metadata": {},
   "outputs": [],
   "source": [
    "df = pd.read_csv(filename, dtype = datatypes)"
   ]
  },
  {
   "cell_type": "code",
   "execution_count": 5,
   "metadata": {},
   "outputs": [],
   "source": [
    "df = df[df['type']=='article']\n",
    "df.drop('type', axis=1, inplace=True)"
   ]
  },
  {
   "cell_type": "code",
   "execution_count": 6,
   "metadata": {},
   "outputs": [],
   "source": [
    "df['bodyText'] = df['bodyText'].astype(str)"
   ]
  },
  {
   "cell_type": "code",
   "execution_count": 7,
   "metadata": {},
   "outputs": [],
   "source": [
    "df.webPublicationDate = pd.to_datetime(df.webPublicationDate)"
   ]
  },
  {
   "cell_type": "code",
   "execution_count": 8,
   "metadata": {},
   "outputs": [
    {
     "name": "stdout",
     "output_type": "stream",
     "text": [
      "<class 'pandas.core.frame.DataFrame'>\n",
      "Int64Index: 75045 entries, 0 to 78385\n",
      "Data columns (total 13 columns):\n",
      " #   Column              Non-Null Count  Dtype              \n",
      "---  ------              --------------  -----              \n",
      " 0   Unnamed: 0          75045 non-null  int64              \n",
      " 1   sectionName         75045 non-null  category           \n",
      " 2   webPublicationDate  75045 non-null  datetime64[ns, UTC]\n",
      " 3   webTitle            75045 non-null  object             \n",
      " 4   pillarName          74423 non-null  category           \n",
      " 5   headline            75045 non-null  object             \n",
      " 6   byline              73348 non-null  object             \n",
      " 7   webUrl              75045 non-null  object             \n",
      " 8   bodyText            75045 non-null  object             \n",
      " 9   wordcount           75045 non-null  int32              \n",
      " 10  publication         75045 non-null  category           \n",
      " 11  charCount           75045 non-null  int32              \n",
      " 12  productionOffice    75045 non-null  category           \n",
      "dtypes: category(4), datetime64[ns, UTC](1), int32(2), int64(1), object(5)\n",
      "memory usage: 693.4 MB\n"
     ]
    }
   ],
   "source": [
    "df.info(memory_usage='deep')"
   ]
  },
  {
   "cell_type": "code",
   "execution_count": 9,
   "metadata": {},
   "outputs": [],
   "source": [
    "def category_percentage(dataframe, column):\n",
    "    '''\n",
    "    parameter: column as string\n",
    "    \n",
    "    return: pandas.Series of percentages of total dataframe\n",
    "    '''\n",
    "    return round(dataframe[column].value_counts(sort=True, normalize=True)*100, 2)"
   ]
  },
  {
   "cell_type": "markdown",
   "metadata": {},
   "source": [
    "Lets explore whether NLP can predict the pillar from the body of the article.\n",
    "\n",
    "First, lets check our distribution of pillars:"
   ]
  },
  {
   "cell_type": "code",
   "execution_count": 10,
   "metadata": {},
   "outputs": [
    {
     "name": "stdout",
     "output_type": "stream",
     "text": [
      "World news                                             9.01\n",
      "Opinion                                                8.90\n",
      "Football                                               7.40\n",
      "Politics                                               7.00\n",
      "Sport                                                  6.80\n",
      "                                                       ... \n",
      "Kids' travel guides                                    0.00\n",
      "Indigenous Business Australia: Building communities    0.00\n",
      "First Man: Home entertainment release                  0.00\n",
      "Entertainment One: Stan & Ollie                        0.00\n",
      "Xero: Digital Connectivity                             0.00\n",
      "Name: sectionName, Length: 108, dtype: float64\n"
     ]
    },
    {
     "data": {
      "text/plain": [
       "<matplotlib.axes._subplots.AxesSubplot at 0x7efd55745290>"
      ]
     },
     "execution_count": 10,
     "metadata": {},
     "output_type": "execute_result"
    },
    {
     "data": {
      "image/png": "[encoded data removed]",
      "text/plain": [
       "<Figure size 432x288 with 1 Axes>"
      ]
     },
     "metadata": {
      "needs_background": "light"
     },
     "output_type": "display_data"
    }
   ],
   "source": [
    "pillar_pc = category_percentage(df, 'sectionName')\n",
    "print(pillar_pc)\n",
    "pillar_pc.head(30).plot.bar()"
   ]
  },
  {
   "cell_type": "code",
   "execution_count": 11,
   "metadata": {},
   "outputs": [
    {
     "name": "stdout",
     "output_type": "stream",
     "text": [
      "News         49.36\n",
      "Arts         18.64\n",
      "Sport        14.32\n",
      "Opinion       8.98\n",
      "Lifestyle     8.71\n",
      "Name: pillarName, dtype: float64\n"
     ]
    },
    {
     "data": {
      "text/plain": [
       "<matplotlib.axes._subplots.AxesSubplot at 0x7efd54f6aad0>"
      ]
     },
     "execution_count": 11,
     "metadata": {},
     "output_type": "execute_result"
    },
    {
     "data": {
      "image/png": "[encoded data removed]",
      "text/plain": [
       "<Figure size 432x288 with 1 Axes>"
      ]
     },
     "metadata": {
      "needs_background": "light"
     },
     "output_type": "display_data"
    }
   ],
   "source": [
    "pillar_pc = category_percentage(df, 'pillarName')\n",
    "print(pillar_pc)\n",
    "pillar_pc.plot.bar()"
   ]
  },
  {
   "cell_type": "markdown",
   "metadata": {},
   "source": [
    "News is the predominant pillar clearly."
   ]
  },
  {
   "cell_type": "code",
   "execution_count": 12,
   "metadata": {},
   "outputs": [
    {
     "data": {
      "text/plain": [
       "(-100.0, 2000.0)"
      ]
     },
     "execution_count": 12,
     "metadata": {},
     "output_type": "execute_result"
    },
    {
     "data": {
      "image/png": "[encoded data removed]",
      "text/plain": [
       "<Figure size 576x864 with 1 Axes>"
      ]
     },
     "metadata": {
      "needs_background": "light"
     },
     "output_type": "display_data"
    }
   ],
   "source": [
    "plt.figure(figsize = (8, 12))\n",
    "sns.violinplot(y = 'pillarName', \n",
    "               x = 'wordcount', \n",
    "               data = df,\n",
    "               orient='h')\n",
    "plt.xlim(-100, 2000)"
   ]
  },
  {
   "cell_type": "markdown",
   "metadata": {},
   "source": [
    "There is variation in the length of articles based on their pillars. \n",
    "- The opinion articles are most consistant in terms of article length and longest on average. \n",
    "- The distribution of opinion pieces is double peaked, with a smaller peak at approx 300 words. I assume these are editorial pieces.\n",
    "- Sports and Arts pieces vary in length most substationally.\n",
    "- Lifestyle content is generally the shortest in length."
   ]
  },
  {
   "cell_type": "markdown",
   "metadata": {},
   "source": [
    "<h2> Tokenizing by Sentence </h2>\n",
    "\n",
    "    A brief exploration of sentence lengths wrt pillar types:"
   ]
  },
  {
   "cell_type": "code",
   "execution_count": 13,
   "metadata": {},
   "outputs": [
    {
     "data": {
      "text/plain": [
       "['For someone who professes to be into the new-fangled science of what makes people tick, I’m not sure it was the cleverest move to get into a rickety carriage on a fairground ferris wheel with a psychopathic killer.',\n",
       " 'Still, the image of junior doctor Max Liebermann hanging from his fingertips over the city of Vienna after being hurled from the door, proved a thrilling, if completely avoidable – “hypnosis would be easier” – end to the first episode of Vienna Blood (BBC Two).',\n",
       " 'It is set in Vienna in 1906, where gruff detective Oskar Rheinhardt (Juergen Maurer) is told that a young doctor – Liebermann (Matthew Beard), a fan of Freud – will be shadowing him to learn about “the psychopathy of the criminal mind”.',\n",
       " '“Catchy,” deadpans Rheinhardt.',\n",
       " 'The three-part series will be compared, unavoidably, to Sherlock: its writer, Steve Thompson, adapting the Frank Tallis novels, was also a Sherlock scriptwriter.',\n",
       " 'But Liebermann’s character study of his reluctant new mentor is so Holmesian it feels like a spoof.',\n",
       " 'For the first half an hour, it feels as if the makers are failing to repress their Sherlock complex – the jaunty camera angles, the hyperreal look, the jangly music – until it starts to relax into itself.',\n",
       " 'A medium has been murdered – a crime that has been made to look like suicide.',\n",
       " 'Except, points out just about every character – as if we didn’t get the significance the first time – where is the weapon?',\n",
       " 'Rheinhardt is, in the classic tradition, one of those troubled but maverick detectives with quirks – he munches coffee beans – and who needs a quick conviction.',\n",
       " 'His relationship with Liebermann is predictably tricky at first, but it is nice to watch him thaw.',\n",
       " '“You’re staring,” says Rheinhardt.',\n",
       " '“I was told I could observe,” says the young doctor.',\n",
       " 'The police officer is humble enough to value Liebermann’s talents for personality profiling, and asks for help.',\n",
       " 'And hurrah, (possibly) TV’s first forensic psychologist is born.',\n",
       " 'Liebermann is implausibly good at this: he points out that the woman’s apartment is “like a stage set” (they realise she holds seances), and is puzzled by the absence of clothes in her wardrobe, until he makes the giant leap that she must have been pregnant, her clothes all taken to be altered by a seamstress.',\n",
       " '“Welcome to the case, Inspector,” says the doctor.',\n",
       " 'Goodness, he’s cocky, under that cool demeanour.',\n",
       " 'Back to the morgue where his theory is confirmed.',\n",
       " '“Find the father of this child, he’s your killer,” he tells the experienced older detective, who inexplicably fails to thank him sarcastically for the suggestion.',\n",
       " 'Is the killer Otto Braun, one of the men they track down who attended the seance?',\n",
       " 'There is a good rooftop chase that makes him look guilty.',\n",
       " '“Welcome to the case, doctor,” says Rheinhardt back to Liebermann, when they catch him.',\n",
       " 'It is cheesy, but their relationship is developing so nicely I’ll let them off.',\n",
       " 'But it’s not Braun – the killer is an adulterer with a reputation to lose, and anyway, Braun soon ends up dead.',\n",
       " 'The sleuths arrange another seance, presumably – though it’s not clear – to pretend to contact the dead medium, and flush out one of the other attendees, a wealthy banker, Heinrich Holderlein, whose wife makes him go to this sort of thing.',\n",
       " 'It doesn’t work but he is questioned, until rich and powerful people conspire to put pressure on the police, and get Rheinhardt taken off the case.',\n",
       " 'As if that would work; Rheinhardt is dogged and anyway, he says, “work is all I have”.',\n",
       " 'He deduces the murder weapon is an antique gun, stuffed with fragments of human bone instead of shot, so it leaves no trace (I still don’t understand why the killer thought this necessary) – and Liebermann figures the door was locked from the outside using steel forceps.',\n",
       " 'Which makes them suspicious of the Vienna steel magnate and mayor’s right-hand man, Hans Brückmüller – as if he’s the only one in the city with access to such a device.',\n",
       " 'But it must be him – the police commissioner was keeping the mayor’s office informed of the investigation, so Brückmüller was always a step ahead.',\n",
       " 'Invited anonymously by Liebermann to meet him at the fairground and ride the big wheel, Brückmüller is revealed not so much as a Moriarty mastermind but as a frighteningly recognisable trumped-up politician wanting to rid Vienna of “the vermin – the subversives, the intellectuals, the muck-raking journalists”.',\n",
       " 'He spits contemptuously at Liebermann: “Dr Jew.” Still, Liebermann gets his confession, and stuffs a life-saving finger in Brückmüller’s fresh bullet wound.',\n",
       " 'It is all absurd but enjoyable, the extended length more or less justified by the subplots: the advent of a more humane treatment of mental health v the electroshocks championed by Liebermann’s arrogant professor; Viennese overt antisemitism and Liebermann’s father’s desperation to fit in; the difficulty of convicting powerful men who think they are untouchable.',\n",
       " 'I take issue with the women depicted almost exclusively as beautiful corpses, vehicles for gratuitous breast shots, hysterics or needy girlfriends.',\n",
       " 'And the odd-couple detective and sidekick setup feels tired.',\n",
       " 'But Beard and Maurer are excellent, and my id is a sucker for a bit of murder in a fin de siècle setting, so I’ll forgive much.']"
      ]
     },
     "execution_count": 13,
     "metadata": {},
     "output_type": "execute_result"
    }
   ],
   "source": [
    "sent_tokenize(df.bodyText[5])  # Testing function with example"
   ]
  },
  {
   "cell_type": "code",
   "execution_count": null,
   "metadata": {},
   "outputs": [],
   "source": [
    "sentence_tokens = df['bodyText'].apply(sent_tokenize)"
   ]
  },
  {
   "cell_type": "code",
   "execution_count": null,
   "metadata": {},
   "outputs": [],
   "source": [
    "df['sentence_lengths'] = sentence_tokens.apply(lambda x: [len(tokens) for tokens in x])"
   ]
  },
  {
   "cell_type": "code",
   "execution_count": null,
   "metadata": {},
   "outputs": [],
   "source": [
    "import functools\n",
    "import operator\n",
    "\n",
    "def sentence_histplot(pillar, colour):\n",
    "    plt.hist(functools.reduce(operator.iconcat, \n",
    "                              df['sentence_lengths'][df['pillarName']==str(pillar)].values, []), \n",
    "             bins=range(0,401,5), \n",
    "             color = colour, \n",
    "             alpha=0.6, \n",
    "             label = pillar,\n",
    "             histtype ='step',\n",
    "            density=True,\n",
    "            cumulative=True)\n",
    "    \n",
    "\n",
    "pillars = df.pillarName.unique()\n",
    "colours = ['b', 'r', 'g', 'y', 'm', '0']\n",
    "plt.figure(figsize=(12,6))\n",
    "for i in range(len(pillars)):\n",
    "    sentence_histplot(pillars[i], colours[i])\n",
    "plt.legend()\n",
    "plt.ylabel('Cumulative fraction', fontsize = 15)\n",
    "plt.xlabel('Sentence Length (characters)', fontsize = 15)"
   ]
  },
  {
   "cell_type": "markdown",
   "metadata": {},
   "source": [
    "There is some minimal relationship between sentence length and pillars:\n",
    "- News articles tend to use longer sentences than the other pillars. \n",
    "- Lifestyle pieces use the shortest sentences. \n",
    "- The Sport, Arts and Opinion pieces are more or less the same as each other."
   ]
  },
  {
   "cell_type": "markdown",
   "metadata": {},
   "source": [
    "<h2> Cleaning for word tokenizing </h2>"
   ]
  },
  {
   "cell_type": "code",
   "execution_count": null,
   "metadata": {},
   "outputs": [],
   "source": [
    "import string\n",
    "from nltk.corpus import stopwords"
   ]
  },
  {
   "cell_type": "code",
   "execution_count": null,
   "metadata": {},
   "outputs": [],
   "source": [
    "string.punctuation.split()"
   ]
  },
  {
   "cell_type": "code",
   "execution_count": null,
   "metadata": {},
   "outputs": [],
   "source": []
  },
  {
   "cell_type": "code",
   "execution_count": null,
   "metadata": {},
   "outputs": [],
   "source": [
    "stopwords\n",
    "stopwords.words('english')[0:10] # Show some stop words"
   ]
  },
  {
   "cell_type": "code",
   "execution_count": null,
   "metadata": {},
   "outputs": [],
   "source": [
    "# import re\n",
    "# def text_process(originaltext):\n",
    "#     \"\"\"\n",
    "#     Takes in a string of text, then performs the following:\n",
    "#     1. Removes numbers and special characters (fortmatted punc etc)\n",
    "#     2. Remove all standard punctuation\n",
    "#     3. Remove all stopwords\n",
    "#     4. Returns a list of the cleaned text\n",
    "#     \"\"\"\n",
    "#     nonumsc = re.sub(r'\\d+|\\$|\\£|\\–|\\’|\\…|\\”|\\“', '', originaltext)\n",
    "    \n",
    "#     nopunc = [char for char in nonumsc if char not in string.punctuation]\n",
    "\n",
    "#     nopunc = ''.join(nopunc)\n",
    "    \n",
    "#     return [word.lower() for word in nopunc.split() if word.lower() not in stopwords.words('english')]\n",
    "\n"
   ]
  },
  {
   "cell_type": "code",
   "execution_count": null,
   "metadata": {},
   "outputs": [],
   "source": [
    "from nltk.stem import WordNetLemmatizer \n",
    "  \n",
    "lemmatizer = WordNetLemmatizer() "
   ]
  },
  {
   "cell_type": "code",
   "execution_count": null,
   "metadata": {},
   "outputs": [],
   "source": [
    "text = df.bodyText[2285]"
   ]
  },
  {
   "cell_type": "code",
   "execution_count": null,
   "metadata": {},
   "outputs": [],
   "source": [
    "def text_process(text):\n",
    "    tokens = word_tokenize(text.lower())\n",
    "    tokens = [contractions.fix(word) for word in tokens]\n",
    "    tokens = [re.sub(r'\\d+|\\$|\\£|\\–|\\’|\\…|\\”|\\“', '', word) for word in tokens]\n",
    "    tokens = [word for word in tokens if word not in string.punctuation]\n",
    "    tokens = [word for word in tokens if word not in stopwords.words('english')]\n",
    "    tokens = [lemmatizer.lemmatize(word) for word in tokens]\n",
    "    tokens = [word for word in tokens if len(word) > 1]\n",
    "    return tokens"
   ]
  },
  {
   "cell_type": "code",
   "execution_count": null,
   "metadata": {
    "scrolled": true
   },
   "outputs": [],
   "source": [
    "tok = text_process(text)\n",
    "print(tok)"
   ]
  },
  {
   "cell_type": "code",
   "execution_count": null,
   "metadata": {
    "scrolled": false
   },
   "outputs": [],
   "source": [
    "text"
   ]
  },
  {
   "cell_type": "markdown",
   "metadata": {},
   "source": [
    "<h2> NMF Model <h2>"
   ]
  },
  {
   "cell_type": "code",
   "execution_count": null,
   "metadata": {},
   "outputs": [],
   "source": [
    "n_articles = 2000\n",
    "df_train = df[:n_articles]"
   ]
  },
  {
   "cell_type": "code",
   "execution_count": null,
   "metadata": {},
   "outputs": [],
   "source": [
    "df_train.info()"
   ]
  },
  {
   "cell_type": "code",
   "execution_count": null,
   "metadata": {},
   "outputs": [],
   "source": [
    "texts = df_train.bodyText.apply(text_process)"
   ]
  },
  {
   "cell_type": "code",
   "execution_count": null,
   "metadata": {},
   "outputs": [],
   "source": [
    "headlines = df_train.headline.values"
   ]
  },
  {
   "cell_type": "code",
   "execution_count": null,
   "metadata": {},
   "outputs": [],
   "source": [
    "from sklearn.feature_extraction.text import TfidfVectorizer\n",
    "\n",
    "tfidf_vectorizer = TfidfVectorizer(\n",
    "    min_df=3,\n",
    "    max_df=0.9,\n",
    "    max_features=5000,\n",
    "    ngram_range=(1, 2),\n",
    "    preprocessor=' '.join\n",
    ")"
   ]
  },
  {
   "cell_type": "code",
   "execution_count": null,
   "metadata": {},
   "outputs": [],
   "source": [
    "tfidf = tfidf_vectorizer.fit_transform(texts)"
   ]
  },
  {
   "cell_type": "code",
   "execution_count": null,
   "metadata": {},
   "outputs": [],
   "source": [
    "tfidf_fn = np.array(tfidf_vectorizer.get_feature_names())"
   ]
  },
  {
   "cell_type": "code",
   "execution_count": null,
   "metadata": {},
   "outputs": [],
   "source": [
    "from sklearn.decomposition import NMF\n",
    "nmf = NMF(n_components=25)"
   ]
  },
  {
   "cell_type": "code",
   "execution_count": null,
   "metadata": {},
   "outputs": [],
   "source": [
    "from sklearn.preprocessing import Normalizer, MaxAbsScaler\n",
    "from sklearn.pipeline import make_pipeline\n",
    "\n",
    "scaler = MaxAbsScaler()\n",
    "normalizer = Normalizer()\n",
    "\n",
    "model = make_pipeline(scaler, nmf, normalizer)"
   ]
  },
  {
   "cell_type": "code",
   "execution_count": null,
   "metadata": {
    "scrolled": false
   },
   "outputs": [],
   "source": [
    "norm_features = model.fit_transform(tfidf)"
   ]
  },
  {
   "cell_type": "code",
   "execution_count": null,
   "metadata": {},
   "outputs": [],
   "source": [
    "norm_features"
   ]
  },
  {
   "cell_type": "code",
   "execution_count": null,
   "metadata": {},
   "outputs": [],
   "source": [
    "features = pd.DataFrame(norm_features, index=headlines)"
   ]
  },
  {
   "cell_type": "code",
   "execution_count": null,
   "metadata": {},
   "outputs": [],
   "source": [
    "features.head()"
   ]
  },
  {
   "cell_type": "markdown",
   "metadata": {},
   "source": [
    "<h3> Similarities </h3>\n",
    "    \n",
    "Selects other articles most similar in content according to the model. "
   ]
  },
  {
   "cell_type": "code",
   "execution_count": null,
   "metadata": {},
   "outputs": [],
   "source": [
    "article = features.iloc[460]\n",
    "similarities = features.dot(article)\n",
    "print(similarities.nlargest(10))"
   ]
  },
  {
   "cell_type": "markdown",
   "metadata": {},
   "source": [
    "<h3> Topic Modelling </h3>"
   ]
  },
  {
   "cell_type": "code",
   "execution_count": null,
   "metadata": {
    "scrolled": false
   },
   "outputs": [],
   "source": [
    "for i, topic in enumerate(nmf.components_):\n",
    "     print(\"\\nTopic {}: {}\".format(i + 1, \", \".join(\n",
    "         [str(x) for x in tfidf_fn\n",
    "          [topic.argsort()[:-15-1:-1]]])))"
   ]
  },
  {
   "cell_type": "code",
   "execution_count": null,
   "metadata": {
    "scrolled": true
   },
   "outputs": [],
   "source": [
    "def top_words(topic, n_top_words):\n",
    "    return topic.argsort()[:-n_top_words - 1:-1]  \n",
    "\n",
    "def topic_table(model, feature_names, n_top_words):\n",
    "    topics = {}\n",
    "    for topic_idx, topic in enumerate(model.components_):\n",
    "        t = (topic_idx)\n",
    "        topics[t] = [feature_names[i] for i in top_words(topic, n_top_words)]\n",
    "    return pd.DataFrame(topics)"
   ]
  },
  {
   "cell_type": "code",
   "execution_count": null,
   "metadata": {},
   "outputs": [],
   "source": [
    "topics_df = topic_table(nmf, tfidf_fn, 15).T"
   ]
  },
  {
   "cell_type": "code",
   "execution_count": null,
   "metadata": {},
   "outputs": [],
   "source": []
  },
  {
   "cell_type": "code",
   "execution_count": null,
   "metadata": {},
   "outputs": [],
   "source": [
    "topics_df['topics'] = topics_df.apply(lambda x: [', '.join(x)][0], axis=1) "
   ]
  },
  {
   "cell_type": "code",
   "execution_count": null,
   "metadata": {},
   "outputs": [],
   "source": [
    "topics_df = pd.DataFrame({'topic number': topics_df.index, 'topic':topics_df.topics})"
   ]
  },
  {
   "cell_type": "code",
   "execution_count": null,
   "metadata": {},
   "outputs": [],
   "source": [
    "topics_df"
   ]
  },
  {
   "cell_type": "code",
   "execution_count": null,
   "metadata": {},
   "outputs": [],
   "source": [
    "highest_topics = pd.DataFrame(norm_features.argmax(axis=1), columns=['topic number'])\n",
    "print(highest_topics.info())"
   ]
  },
  {
   "cell_type": "code",
   "execution_count": null,
   "metadata": {},
   "outputs": [],
   "source": []
  },
  {
   "cell_type": "code",
   "execution_count": null,
   "metadata": {},
   "outputs": [],
   "source": [
    "highest_topics = highest_topics.merge(topics_df, on='topic number', how='left')\n",
    "print(highest_topics.info())"
   ]
  },
  {
   "cell_type": "code",
   "execution_count": null,
   "metadata": {},
   "outputs": [],
   "source": [
    "df_headline = pd.DataFrame(headlines, columns=['headline'])\n",
    "print(df_headline.info())\n",
    "info_df = df_train[['sectionName', 'pillarName', 'headline']]\n",
    "print(info_df.info())"
   ]
  },
  {
   "cell_type": "code",
   "execution_count": null,
   "metadata": {
    "scrolled": false
   },
   "outputs": [],
   "source": [
    "df_article_topic = df_headline.join(highest_topics)\n",
    "print(df_article_topic.info())\n",
    "\n",
    "df_article_topic = df_article_topic.merge(info_df, on='headline', how='inner')\n",
    "print(df_article_topic.info())"
   ]
  },
  {
   "cell_type": "code",
   "execution_count": null,
   "metadata": {},
   "outputs": [],
   "source": [
    "df_article_topic"
   ]
  },
  {
   "cell_type": "code",
   "execution_count": null,
   "metadata": {},
   "outputs": [],
   "source": [
    "df_train.headline.nunique()"
   ]
  },
  {
   "cell_type": "code",
   "execution_count": null,
   "metadata": {},
   "outputs": [],
   "source": []
  }
 ],
 "metadata": {
  "kernelspec": {
   "display_name": "Python 3",
   "language": "python",
   "name": "python3"
  },
  "language_info": {
   "codemirror_mode": {
    "name": "ipython",
    "version": 3
   },
   "file_extension": ".py",
   "mimetype": "text/x-python",
   "name": "python",
   "nbconvert_exporter": "python",
   "pygments_lexer": "ipython3",
   "version": "3.7.7"
  }
 },
 "nbformat": 4,
 "nbformat_minor": 4
}
